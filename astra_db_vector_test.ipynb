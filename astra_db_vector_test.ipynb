{
 "cells": [
  {
   "cell_type": "markdown",
   "metadata": {
    "id": "qpsQ4W4C4Vtx"
   },
   "source": [
    "# Setup"
   ]
  },
  {
   "cell_type": "code",
   "execution_count": 2,
   "metadata": {
    "executionInfo": {
     "elapsed": 3656,
     "status": "ok",
     "timestamp": 1742008867185,
     "user": {
      "displayName": "Vincent Reynard",
      "userId": "04327769587638942155"
     },
     "user_tz": -660
    },
    "id": "Ng_fECZ3s8VH"
   },
   "outputs": [],
   "source": [
    "from IPython.display import clear_output\n",
    "\n",
    "!pip install astrapy datasets pandas python-dotenv\n",
    "\n",
    "clear_output()"
   ]
  },
  {
   "cell_type": "code",
   "execution_count": 3,
   "metadata": {
    "executionInfo": {
     "elapsed": 3599,
     "status": "ok",
     "timestamp": 1742008894871,
     "user": {
      "displayName": "Vincent Reynard",
      "userId": "04327769587638942155"
     },
     "user_tz": -660
    },
    "id": "oM1F3yvTvBsv"
   },
   "outputs": [],
   "source": [
    "from google.colab import userdata\n",
    "import os\n",
    "\n",
    "# Initialize secrets\n",
    "os.environ[\"ASTRA_DB_API_ENDPOINT\"] = \"https://047b29ef-98d0-4ff5-a342-d959b024506a-us-east-2.apps.astra.datastax.com\"\n",
    "\n",
    "# This notebook is designed to be run on Google Colab. The userdata object is a helper object that\n",
    "# will obtain secrets stored in Google Colab's secret store.\n",
    "os.environ[\"ASTRA_DB_APPLICATION_TOKEN\"] = userdata.get(\"ASTRA_DB_APPLICATION_TOKEN\")\n",
    "os.environ[\"LANGFLOW_API_KEY\"] = userdata.get(\"LANGFLOW_API_KEY\")\n",
    "os.environ[\"RAPID_API_KEY\"] = userdata.get(\"RAPID_API_KEY\")"
   ]
  },
  {
   "cell_type": "markdown",
   "metadata": {
    "id": "1raWFemI4aW5"
   },
   "source": [
    "## Populate DB"
   ]
  },
  {
   "cell_type": "code",
   "execution_count": null,
   "metadata": {
    "id": "Ew3V8_aZb3B2"
   },
   "outputs": [],
   "source": [
    "from astrapy import DataAPIClient\n",
    "\n",
    "# Connect to Astra DB\n",
    "client = DataAPIClient(os.environ[\"ASTRA_DB_APPLICATION_TOKEN\"])\n",
    "database = client.get_database(os.environ[\"ASTRA_DB_API_ENDPOINT\"])\n",
    "collection = database.get_collection(\"grocerrify_food\")"
   ]
  },
  {
   "cell_type": "code",
   "execution_count": null,
   "metadata": {
    "id": "NOklpMIvbywq"
   },
   "outputs": [],
   "source": [
    "# Cleanup vector database\n",
    "collection.delete_all()"
   ]
  },
  {
   "cell_type": "code",
   "execution_count": 15,
   "metadata": {
    "executionInfo": {
     "elapsed": 703,
     "status": "ok",
     "timestamp": 1742003955108,
     "user": {
      "displayName": "Vincent Reynard",
      "userId": "04327769587638942155"
     },
     "user_tz": -660
    },
    "id": "KLooYhHmVssj"
   },
   "outputs": [],
   "source": [
    "# Get sample foods from Coles\n",
    "import requests\n",
    "\n",
    "url = \"https://coles-product-price-api.p.rapidapi.com/coles/product-search/?query=chicken\"\n",
    "\n",
    "payload = {}\n",
    "headers = {\n",
    "  'x-rapidapi-host': 'coles-product-price-api.p.rapidapi.com',\n",
    "  'x-rapidapi-key': os.environ[\"RAPID_API_KEY\"]\n",
    "}\n",
    "\n",
    "response = requests.request(\"GET\", url, headers=headers, data=payload).json()\n",
    "\n",
    "coles_products = []\n",
    "for product in response[\"results\"]:\n",
    "  coles_products.append({\"product_name\": product[\"product_name\"],\n",
    "                         \"source\": \"coles\"})"
   ]
  },
  {
   "cell_type": "code",
   "execution_count": 16,
   "metadata": {
    "colab": {
     "base_uri": "https://localhost:8080/"
    },
    "executionInfo": {
     "elapsed": 5,
     "status": "ok",
     "timestamp": 1742003957547,
     "user": {
      "displayName": "Vincent Reynard",
      "userId": "04327769587638942155"
     },
     "user_tz": -660
    },
    "id": "Ewx-tG0Bhr8R",
    "outputId": "44f38bab-3a38-4d75-f366-f0d06b8e4550"
   },
   "outputs": [
    {
     "data": {
      "text/plain": [
       "[{'product_name': 'Creamy Chicken with Mushroom Simmer Sauce',\n",
       "  'source': 'coles'},\n",
       " {'product_name': 'Indian Mild Butter Chicken Simmer Sauce',\n",
       "  'source': 'coles'},\n",
       " {'product_name': 'Chicken Salted Chicken Chips', 'source': 'coles'},\n",
       " {'product_name': 'Chicken', 'source': 'coles'},\n",
       " {'product_name': 'Creamy Treats Cat Food Chicken & Chicken Whitefish 4X12g',\n",
       "  'source': 'coles'},\n",
       " {'product_name': 'Chicken Necks', 'source': 'coles'},\n",
       " {'product_name': 'Butter Chicken', 'source': 'coles'},\n",
       " {'product_name': 'Rice Chicken', 'source': 'coles'},\n",
       " {'product_name': 'Chicken Masala', 'source': 'coles'},\n",
       " {'product_name': 'Whole Chicken', 'source': 'coles'}]"
      ]
     },
     "execution_count": 16,
     "metadata": {},
     "output_type": "execute_result"
    }
   ],
   "source": [
    "# Check the products\n",
    "coles_products"
   ]
  },
  {
   "cell_type": "code",
   "execution_count": 5,
   "metadata": {
    "executionInfo": {
     "elapsed": 6,
     "status": "ok",
     "timestamp": 1742008912616,
     "user": {
      "displayName": "Vincent Reynard",
      "userId": "04327769587638942155"
     },
     "user_tz": -660
    },
    "id": "DnfBAjTuwaNf"
   },
   "outputs": [],
   "source": [
    "# Truncate content so string does not overflow\n",
    "# max_bytes=512 for Nvidia NV-Embed-QA embedding model\n",
    "def truncate_content(content, max_bytes=512):\n",
    "    # Encode the string into bytes (UTF-8 encoding)\n",
    "    content_bytes = content.encode('utf-8')\n",
    "\n",
    "    # Check if the byte length exceeds the limit\n",
    "    if len(content_bytes) > max_bytes:\n",
    "        # Truncate the content to the maximum byte size\n",
    "        truncated_content_bytes = content_bytes[:max_bytes]\n",
    "\n",
    "        # Decode back to a string, ensuring no decoding errors occur\n",
    "        truncated_content = truncated_content_bytes.decode('utf-8', errors='ignore')\n",
    "    else:\n",
    "        truncated_content = content\n",
    "\n",
    "    return truncated_content"
   ]
  },
  {
   "cell_type": "code",
   "execution_count": 34,
   "metadata": {
    "colab": {
     "base_uri": "https://localhost:8080/"
    },
    "executionInfo": {
     "elapsed": 1076,
     "status": "ok",
     "timestamp": 1742005367182,
     "user": {
      "displayName": "Vincent Reynard",
      "userId": "04327769587638942155"
     },
     "user_tz": -660
    },
    "id": "OTHhxQQZsnHn",
    "outputId": "a198300b-1a69-4763-bb2d-ab877df7c37f"
   },
   "outputs": [
    {
     "name": "stdout",
     "output_type": "stream",
     "text": [
      "Inserted a product: {'product_name': 'Creamy Chicken with Mushroom Simmer Sauce', 'source': 'coles'}\n",
      "Inserted a product: {'product_name': 'Indian Mild Butter Chicken Simmer Sauce', 'source': 'coles'}\n",
      "Inserted a product: {'product_name': 'Chicken Salted Chicken Chips', 'source': 'coles'}\n",
      "Inserted a product: {'product_name': 'Chicken', 'source': 'coles'}\n",
      "Inserted a product: {'product_name': 'Creamy Treats Cat Food Chicken & Chicken Whitefish 4X12g', 'source': 'coles'}\n",
      "Inserted a product: {'product_name': 'Chicken Necks', 'source': 'coles'}\n",
      "Inserted a product: {'product_name': 'Butter Chicken', 'source': 'coles'}\n",
      "Inserted a product: {'product_name': 'Rice Chicken', 'source': 'coles'}\n",
      "Inserted a product: {'product_name': 'Chicken Masala', 'source': 'coles'}\n",
      "Inserted a product: {'product_name': 'Whole Chicken', 'source': 'coles'}\n"
     ]
    }
   ],
   "source": [
    "# Insert record to Astra DB\n",
    "for product in coles_products:\n",
    "\n",
    "    # Combine relevant fields into a single string to be vectorized\n",
    "    content = product[\"product_name\"]\n",
    "\n",
    "    try:\n",
    "        truncated_content = truncate_content(content)\n",
    "        collection.insert_one(\n",
    "            document={\n",
    "                'content': truncated_content,\n",
    "                '$vectorize': truncated_content,\n",
    "                'metadata': product\n",
    "            }\n",
    "        )\n",
    "        print(f\"Inserted a product: {product}\")\n",
    "    except Exception as ex:\n",
    "        print(ex)"
   ]
  },
  {
   "cell_type": "markdown",
   "metadata": {
    "id": "DwQw7bAo4gbg"
   },
   "source": [
    "### Test!"
   ]
  },
  {
   "cell_type": "code",
   "execution_count": 39,
   "metadata": {
    "colab": {
     "base_uri": "https://localhost:8080/"
    },
    "executionInfo": {
     "elapsed": 289,
     "status": "ok",
     "timestamp": 1742005485991,
     "user": {
      "displayName": "Vincent Reynard",
      "userId": "04327769587638942155"
     },
     "user_tz": -660
    },
    "id": "qE-4I71WFN9O",
    "outputId": "92d5864a-8ab9-4492-81d1-698d4caeb8b5"
   },
   "outputs": [
    {
     "name": "stdout",
     "output_type": "stream",
     "text": [
      "Found 10 documents\n",
      "Butter Chicken\n",
      "Chicken\n",
      "Whole Chicken\n",
      "Rice Chicken\n",
      "Chicken Masala\n",
      "Indian Mild Butter Chicken Simmer Sauce\n",
      "Creamy Chicken with Mushroom Simmer Sauce\n",
      "Chicken Necks\n",
      "Creamy Treats Cat Food Chicken & Chicken Whitefish 4X12g\n",
      "Chicken Salted Chicken Chips\n"
     ]
    }
   ],
   "source": [
    "# Retrieve data from Astra DB\n",
    "try:\n",
    "  result = collection.find(\n",
    "      {},\n",
    "      sort={\"$vectorize\": \"Butter chicken\"},\n",
    "      limit=10\n",
    "  )\n",
    "\n",
    "  # Convert cursor to a list of documents\n",
    "  all_docs = list(result)\n",
    "  print(f\"Found {len(all_docs)} documents\")\n",
    "\n",
    "  # Now you can work with the list\n",
    "  for doc in all_docs:\n",
    "      print(doc.get('metadata', {}).get('product_name', 'N/A'))\n",
    "\n",
    "except Exception as ex:\n",
    "  print(ex)"
   ]
  },
  {
   "cell_type": "markdown",
   "metadata": {
    "id": "x7LW_iTwEAWs"
   },
   "source": [
    "## The Product Vector DB Accessor Class"
   ]
  },
  {
   "cell_type": "code",
   "execution_count": 84,
   "metadata": {
    "executionInfo": {
     "elapsed": 14,
     "status": "ok",
     "timestamp": 1742019062033,
     "user": {
      "displayName": "Vincent Reynard",
      "userId": "04327769587638942155"
     },
     "user_tz": -660
    },
    "id": "wsyJq3ofDtah"
   },
   "outputs": [],
   "source": [
    "from astrapy import DataAPIClient\n",
    "from typing import Literal, List\n",
    "\n",
    "class ProductVectorDBProviderConfig():\n",
    "  def __init__(self,\n",
    "               astra_db_application_token: str,\n",
    "               astra_db_api_endpoint: str,\n",
    "               astra_db_collection_name: str):\n",
    "    self.application_token = astra_db_application_token\n",
    "    self.api_endpoint = astra_db_api_endpoint\n",
    "    self.collection_name = astra_db_collection_name\n",
    "\n",
    "class ProductVectorDBProvider():\n",
    "  def __init__(self,\n",
    "               config: ProductVectorDBProviderConfig):\n",
    "    \"\"\"\n",
    "    Arguments:\n",
    "      config (ProductVectorDBProviderConfig): Config object to connect to the database\n",
    "    \"\"\"\n",
    "\n",
    "    # Connect to Astra DB\n",
    "    client = DataAPIClient(config.application_token)\n",
    "    database = client.get_database(config.api_endpoint)\n",
    "    self.collection = database.get_collection(config.collection_name)\n",
    "\n",
    "  def insert_product(self,\n",
    "                     product_name: str,\n",
    "                     source: Literal[\"coles\", \"woolworths\"]) -> bool:\n",
    "    \"\"\"A function for inserting a product into the vector DB\n",
    "\n",
    "    Arguments:\n",
    "      product_name (str): The product name we want to insert\n",
    "      source (str): The source of the product (can only be \"coles\" or \"woolworths\")\n",
    "    Returns:\n",
    "      bool: True if the insertion is successful. Otherwise, returns False\n",
    "    \"\"\"\n",
    "    # Combine relevant fields into a single string to be vectorized\n",
    "    content = product_name\n",
    "\n",
    "    try:\n",
    "      truncated_content = self._truncate_content(content)\n",
    "      self.collection.insert_one(\n",
    "        document={\n",
    "          'content': truncated_content,\n",
    "          '$vectorize': truncated_content,\n",
    "          'metadata': product\n",
    "        }\n",
    "      )\n",
    "      return True\n",
    "    except Exception as ex:\n",
    "      print(ex)\n",
    "      return False\n",
    "\n",
    "  def get_products_by_similarity(self,\n",
    "                                 product_name: str,\n",
    "                                 limit: int = 5) -> List[str]:\n",
    "    \"\"\"A function for retrieving product names based on similarity.\n",
    "\n",
    "    Arguments:\n",
    "      product_name (str): The product name from which we will retrieve similar products.\n",
    "      limit (Optional[int]): Limit of how many products to retrieve.\n",
    "    Returns:\n",
    "      List[str]: A list of similar product names.\n",
    "    \"\"\"\n",
    "    # Retrieve data from Astra DB\n",
    "    try:\n",
    "      result = self.collection.find(\n",
    "        {},\n",
    "        sort={\"$vectorize\": product_name},\n",
    "        limit=limit\n",
    "      )\n",
    "\n",
    "      # Convert cursor to a list of documents\n",
    "      all_docs = list(result)\n",
    "\n",
    "      # Extract the product names and return them\n",
    "      return [doc.get('metadata', {}).get('product_name', 'N/A') for doc in all_docs]\n",
    "\n",
    "    except Exception as ex:\n",
    "      print(f\"Error retrieving products by similarity. Error: {ex}\")\n",
    "      return []\n",
    "\n",
    "\n",
    "  def _truncate_content(self, content: str, max_bytes=512):\n",
    "    \"\"\"A function for truncating content so the string does not overflow.\n",
    "    The max_bytes=512 for Nvidia NV-Embed-QA embedding model.\n",
    "\n",
    "    Arguments:\n",
    "        content (str): The string to be truncated\n",
    "        max_bytes (int): Maximum byte size\n",
    "    Returns:\n",
    "        str: The truncated content\n",
    "    \"\"\"\n",
    "    # Encode the string into bytes (UTF-8 encoding)\n",
    "    content_bytes = content.encode('utf-8')\n",
    "\n",
    "    # Check if the byte length exceeds the limit\n",
    "    if len(content_bytes) > max_bytes:\n",
    "      # Truncate the content to the maximum byte size\n",
    "      truncated_content_bytes = content_bytes[:max_bytes]\n",
    "\n",
    "      # Decode back to a string, ensuring no decoding errors occur\n",
    "      truncated_content = truncated_content_bytes.decode('utf-8', errors='ignore')\n",
    "    else:\n",
    "      truncated_content = content\n",
    "\n",
    "    return truncated_content"
   ]
  },
  {
   "cell_type": "code",
   "execution_count": 85,
   "metadata": {
    "executionInfo": {
     "elapsed": 196,
     "status": "ok",
     "timestamp": 1742019063789,
     "user": {
      "displayName": "Vincent Reynard",
      "userId": "04327769587638942155"
     },
     "user_tz": -660
    },
    "id": "JNVulsCDad3x"
   },
   "outputs": [],
   "source": [
    "# Initialize Astra DB Connection\n",
    "COLLECTION_NAME = \"grocerrify_food\"\n",
    "\n",
    "productVectorDBProviderConfig = ProductVectorDBProviderConfig(\n",
    "    astra_db_application_token=os.environ[\"ASTRA_DB_APPLICATION_TOKEN\"],\n",
    "    astra_db_api_endpoint=os.environ[\"ASTRA_DB_API_ENDPOINT\"],\n",
    "    astra_db_collection_name=COLLECTION_NAME\n",
    ")\n",
    "\n",
    "productVectorDBProvider = ProductVectorDBProvider(\n",
    "    config=productVectorDBProviderConfig\n",
    ")"
   ]
  },
  {
   "cell_type": "markdown",
   "metadata": {
    "id": "waeamxU2bZ6Y"
   },
   "source": [
    "### Test the class"
   ]
  },
  {
   "cell_type": "code",
   "execution_count": 86,
   "metadata": {
    "colab": {
     "base_uri": "https://localhost:8080/"
    },
    "executionInfo": {
     "elapsed": 256,
     "status": "ok",
     "timestamp": 1742019064784,
     "user": {
      "displayName": "Vincent Reynard",
      "userId": "04327769587638942155"
     },
     "user_tz": -660
    },
    "id": "Pjrps5fTa7jl",
    "outputId": "f3fe9b9f-6896-4660-c84f-58bb4bbf9ebd"
   },
   "outputs": [
    {
     "data": {
      "text/plain": [
       "['Chicken',\n",
       " 'Indian Mild Butter Chicken Simmer Sauce',\n",
       " 'Creamy Treats Cat Food Chicken & Chicken Whitefish 4X12g',\n",
       " 'Chicken Masala',\n",
       " 'Whole Chicken']"
      ]
     },
     "execution_count": 86,
     "metadata": {},
     "output_type": "execute_result"
    }
   ],
   "source": [
    "productVectorDBProvider.get_products_by_similarity(product_name=\"Chicken\")"
   ]
  },
  {
   "cell_type": "markdown",
   "metadata": {
    "id": "cst2AeLF4jSI"
   },
   "source": [
    "## The LangFlow Flow Accessor Class"
   ]
  },
  {
   "cell_type": "code",
   "execution_count": 90,
   "metadata": {
    "executionInfo": {
     "elapsed": 5,
     "status": "ok",
     "timestamp": 1742019308952,
     "user": {
      "displayName": "Vincent Reynard",
      "userId": "04327769587638942155"
     },
     "user_tz": -660
    },
    "id": "aKyvsGjQ9nDl"
   },
   "outputs": [],
   "source": [
    "import json\n",
    "import requests\n",
    "from typing import Optional, List, Dict\n",
    "\n",
    "SIMILARITY_SEARCH_FLOW_ID = \"5993123f-28ec-4ae9-afca-8b74e387516d\"\n",
    "\n",
    "class LangFlowProviderConfig():\n",
    "  def __init__(self,\n",
    "               similarity_search_flow_id: str):\n",
    "    self.similarity_search_flow_id = similarity_search_flow_id\n",
    "\n",
    "class LangFlowProvider():\n",
    "  def __init__(self,\n",
    "               config: LangFlowProviderConfig,\n",
    "               application_token: str,\n",
    "               base_api_url: str = \"https://api.langflow.astra.datastax.com\",\n",
    "               langflow_id: str = \"7c6d0acb-34f0-4302-9953-803722048c01\"\n",
    "               ):\n",
    "    self.config = config\n",
    "    self.application_token = application_token\n",
    "    self.base_api_url = base_api_url\n",
    "    self.langflow_id = langflow_id\n",
    "\n",
    "  def get_most_relevant_product(self, product_name: str) -> str:\n",
    "    return self._run_rag_similarity_search_flow(\n",
    "        product_name=product_name\n",
    "    )[0]\n",
    "\n",
    "  def _run_rag_similarity_search_flow(\n",
    "      self,\n",
    "      product_name: str,\n",
    "      output_type: str = \"chat\",\n",
    "      input_type: str = \"chat\"\n",
    "    ) -> List[str]:\n",
    "    \"\"\"\n",
    "    Run an RAG similarity search flow with a given message\n",
    "\n",
    "    :param product_name: The product_name we want to search for\n",
    "    :param endpoint: The ID or the endpoint name of the flow\n",
    "    :param tweaks: Optional tweaks to customize the flow\n",
    "    :return: A list of top three most relevant products\n",
    "    \"\"\"\n",
    "    similarity_search_flow_id = self.config.similarity_search_flow_id\n",
    "    api_url = f\"{self.base_api_url}/lf/{self.langflow_id}/api/v1/run/{similarity_search_flow_id}?stream=false\"\n",
    "\n",
    "    payload = {\n",
    "        \"input_value\": product_name,\n",
    "        \"output_type\": output_type,\n",
    "        \"input_type\": input_type,\n",
    "    }\n",
    "    headers = None\n",
    "    if self.application_token:\n",
    "        headers = {\"Authorization\": \"Bearer \" + self.application_token, \"Content-Type\": \"application/json\"}\n",
    "\n",
    "    try:\n",
    "      response = requests.post(api_url, json=payload, headers=headers).json()\n",
    "      message = json.loads(response[\"outputs\"][0][\"outputs\"][0][\"results\"][\"message\"][\"data\"][\"text\"])\n",
    "      return message\n",
    "    except Exception as e:\n",
    "      print(e)\n",
    "      return []"
   ]
  },
  {
   "cell_type": "code",
   "execution_count": 91,
   "metadata": {
    "executionInfo": {
     "elapsed": 7,
     "status": "ok",
     "timestamp": 1742019309764,
     "user": {
      "displayName": "Vincent Reynard",
      "userId": "04327769587638942155"
     },
     "user_tz": -660
    },
    "id": "hybZDeikcHUs"
   },
   "outputs": [],
   "source": [
    "# Initialize the client\n",
    "langFlowProviderConfig = LangFlowProviderConfig(similarity_search_flow_id=SIMILARITY_SEARCH_FLOW_ID)\n",
    "langFlowProvider = LangFlowProvider(config=langFlowProviderConfig,\n",
    "                                    application_token=os.environ[\"LANGFLOW_API_KEY\"])"
   ]
  },
  {
   "cell_type": "code",
   "execution_count": 92,
   "metadata": {
    "colab": {
     "base_uri": "https://localhost:8080/",
     "height": 53
    },
    "executionInfo": {
     "elapsed": 59263,
     "status": "ok",
     "timestamp": 1742019370021,
     "user": {
      "displayName": "Vincent Reynard",
      "userId": "04327769587638942155"
     },
     "user_tz": -660
    },
    "id": "jbnpP5NyA3zL",
    "outputId": "b26c9a85-e2df-41fa-eab3-411342668a76"
   },
   "outputs": [
    {
     "name": "stdout",
     "output_type": "stream",
     "text": [
      "Expecting value: line 1 column 1 (char 0)\n"
     ]
    },
    {
     "data": {
      "application/vnd.google.colaboratory.intrinsic+json": {
       "type": "string"
      },
      "text/plain": [
       "''"
      ]
     },
     "execution_count": 92,
     "metadata": {},
     "output_type": "execute_result"
    }
   ],
   "source": [
    "# Test the class!\n",
    "langFlowProvider.get_most_relevant_product(product_name=\"Butter chicken\")"
   ]
  }
 ],
 "metadata": {
  "colab": {
   "authorship_tag": "ABX9TyOtVEfjfpQMjadPsAMzPxij",
   "collapsed_sections": [
    "x7LW_iTwEAWs"
   ],
   "provenance": []
  },
  "kernelspec": {
   "display_name": "Python 3",
   "name": "python3"
  },
  "language_info": {
   "name": "python"
  }
 },
 "nbformat": 4,
 "nbformat_minor": 0
}
