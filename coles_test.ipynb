{
 "cells": [
  {
   "cell_type": "code",
   "execution_count": 4,
   "metadata": {},
   "outputs": [],
   "source": [
    "from grocerify.coles_helper import ColesHelper"
   ]
  },
  {
   "cell_type": "code",
   "execution_count": 5,
   "metadata": {},
   "outputs": [],
   "source": [
    "cch = ColesHelper()"
   ]
  },
  {
   "cell_type": "code",
   "execution_count": 3,
   "metadata": {},
   "outputs": [
    {
     "ename": "TypeError",
     "evalue": "'>' not supported between instances of 'str' and 'int'",
     "output_type": "error",
     "traceback": [
      "\u001b[1;31m---------------------------------------------------------------------------\u001b[0m",
      "\u001b[1;31mTypeError\u001b[0m                                 Traceback (most recent call last)",
      "Cell \u001b[1;32mIn[3], line 1\u001b[0m\n\u001b[1;32m----> 1\u001b[0m prod \u001b[38;5;241m=\u001b[39m \u001b[43mcch\u001b[49m\u001b[38;5;241;43m.\u001b[39;49m\u001b[43msearch_all\u001b[49m\u001b[43m(\u001b[49m\u001b[38;5;124;43m'\u001b[39;49m\u001b[38;5;124;43mtim tam\u001b[39;49m\u001b[38;5;124;43m'\u001b[39;49m\u001b[43m)\u001b[49m\n\u001b[0;32m      2\u001b[0m \u001b[38;5;28;01mfor\u001b[39;00m item \u001b[38;5;129;01min\u001b[39;00m prod:\n\u001b[0;32m      3\u001b[0m     \u001b[38;5;28mprint\u001b[39m(item)\n",
      "File \u001b[1;32mc:\\Users\\Simone\\Projects\\Grocerify\\grocerify\\coles_helper.py:104\u001b[0m, in \u001b[0;36mColesHelper.search_all\u001b[1;34m(cls, query)\u001b[0m\n\u001b[0;32m    101\u001b[0m         all_results\u001b[38;5;241m.\u001b[39mextend(page_data[\u001b[38;5;124m\"\u001b[39m\u001b[38;5;124mresults\u001b[39m\u001b[38;5;124m\"\u001b[39m])\n\u001b[0;32m    103\u001b[0m \u001b[38;5;66;03m# Convert the raw product data into Product instances\u001b[39;00m\n\u001b[1;32m--> 104\u001b[0m \u001b[38;5;28;01mreturn\u001b[39;00m \u001b[38;5;28;43mcls\u001b[39;49m\u001b[38;5;241;43m.\u001b[39;49m\u001b[43m_create_products\u001b[49m\u001b[43m(\u001b[49m\u001b[43mall_results\u001b[49m\u001b[43m)\u001b[49m\n",
      "File \u001b[1;32mc:\\Users\\Simone\\Projects\\Grocerify\\grocerify\\coles_helper.py:77\u001b[0m, in \u001b[0;36mColesHelper._create_products\u001b[1;34m(cls, raw_products)\u001b[0m\n\u001b[0;32m     74\u001b[0m     image_url \u001b[38;5;241m=\u001b[39m \u001b[38;5;28mcls\u001b[39m\u001b[38;5;241m.\u001b[39mbuild_image_url(product_code)\n\u001b[0;32m     76\u001b[0m     \u001b[38;5;66;03m# Create Product instances and append to the list\u001b[39;00m\n\u001b[1;32m---> 77\u001b[0m     products\u001b[38;5;241m.\u001b[39mappend(\u001b[43mProduct\u001b[49m\u001b[43m(\u001b[49m\n\u001b[0;32m     78\u001b[0m \u001b[43m        \u001b[49m\u001b[43mname\u001b[49m\u001b[38;5;241;43m=\u001b[39;49m\u001b[43mproduct\u001b[49m\u001b[38;5;241;43m.\u001b[39;49m\u001b[43mget\u001b[49m\u001b[43m(\u001b[49m\u001b[38;5;124;43m\"\u001b[39;49m\u001b[38;5;124;43mproduct_name\u001b[39;49m\u001b[38;5;124;43m\"\u001b[39;49m\u001b[43m,\u001b[49m\u001b[43m \u001b[49m\u001b[38;5;124;43m\"\u001b[39;49m\u001b[38;5;124;43mUnknown Product\u001b[39;49m\u001b[38;5;124;43m\"\u001b[39;49m\u001b[43m)\u001b[49m\u001b[43m,\u001b[49m\n\u001b[0;32m     79\u001b[0m \u001b[43m        \u001b[49m\u001b[43mprice\u001b[49m\u001b[38;5;241;43m=\u001b[39;49m\u001b[43mprice\u001b[49m\u001b[43m,\u001b[49m\u001b[43m  \u001b[49m\u001b[38;5;66;43;03m# Ensure price is float\u001b[39;49;00m\n\u001b[0;32m     80\u001b[0m \u001b[43m        \u001b[49m\u001b[43mstore\u001b[49m\u001b[38;5;241;43m=\u001b[39;49m\u001b[38;5;124;43m\"\u001b[39;49m\u001b[38;5;124;43mcoles\u001b[39;49m\u001b[38;5;124;43m\"\u001b[39;49m\u001b[43m,\u001b[49m\n\u001b[0;32m     81\u001b[0m \u001b[43m        \u001b[49m\u001b[43msize\u001b[49m\u001b[38;5;241;43m=\u001b[39;49m\u001b[43mproduct\u001b[49m\u001b[38;5;241;43m.\u001b[39;49m\u001b[43mget\u001b[49m\u001b[43m(\u001b[49m\u001b[38;5;124;43m\"\u001b[39;49m\u001b[38;5;124;43mproduct_size\u001b[39;49m\u001b[38;5;124;43m\"\u001b[39;49m\u001b[43m,\u001b[49m\u001b[43m \u001b[49m\u001b[38;5;124;43m\"\u001b[39;49m\u001b[38;5;124;43mN/A\u001b[39;49m\u001b[38;5;124;43m\"\u001b[39;49m\u001b[43m)\u001b[49m\u001b[43m,\u001b[49m\n\u001b[0;32m     82\u001b[0m \u001b[43m        \u001b[49m\u001b[43mimage_url\u001b[49m\u001b[38;5;241;43m=\u001b[39;49m\u001b[43mimage_url\u001b[49m\n\u001b[0;32m     83\u001b[0m \u001b[43m    \u001b[49m\u001b[43m)\u001b[49m)\n\u001b[0;32m     85\u001b[0m \u001b[38;5;28;01mreturn\u001b[39;00m products\n",
      "File \u001b[1;32mc:\\Users\\Simone\\Projects\\Grocerify\\grocerify\\product.py:9\u001b[0m, in \u001b[0;36mProduct.__init__\u001b[1;34m(self, name, price, store, size, image_url)\u001b[0m\n\u001b[0;32m      7\u001b[0m \u001b[38;5;28mself\u001b[39m\u001b[38;5;241m.\u001b[39msize \u001b[38;5;241m=\u001b[39m size\n\u001b[0;32m      8\u001b[0m \u001b[38;5;28mself\u001b[39m\u001b[38;5;241m.\u001b[39mimage \u001b[38;5;241m=\u001b[39m image_url\n\u001b[1;32m----> 9\u001b[0m \u001b[38;5;28mself\u001b[39m\u001b[38;5;241m.\u001b[39mprice_per_unit \u001b[38;5;241m=\u001b[39m \u001b[38;5;28mself\u001b[39m\u001b[38;5;241m.\u001b[39mprice \u001b[38;5;241m/\u001b[39m \u001b[38;5;28mself\u001b[39m\u001b[38;5;241m.\u001b[39msize \u001b[38;5;28;01mif\u001b[39;00m \u001b[38;5;28;43mself\u001b[39;49m\u001b[38;5;241;43m.\u001b[39;49m\u001b[43msize\u001b[49m\u001b[43m \u001b[49m\u001b[38;5;241;43m>\u001b[39;49m\u001b[43m \u001b[49m\u001b[38;5;241;43m0\u001b[39;49m \u001b[38;5;28;01melse\u001b[39;00m \u001b[38;5;241m0\u001b[39m\n",
      "\u001b[1;31mTypeError\u001b[0m: '>' not supported between instances of 'str' and 'int'"
     ]
    }
   ],
   "source": [
    "prod = cch.search_all('tim tam')\n",
    "for item in prod:\n",
    "    print(item)"
   ]
  },
  {
   "cell_type": "code",
   "execution_count": 6,
   "metadata": {},
   "outputs": [
    {
     "name": "stdout",
     "output_type": "stream",
     "text": [
      "1\n",
      "2\n",
      "3\n",
      "4\n",
      "5\n"
     ]
    },
    {
     "ename": "AttributeError",
     "evalue": "'Product' object has no attribute 'size'",
     "output_type": "error",
     "traceback": [
      "\u001b[1;31m---------------------------------------------------------------------------\u001b[0m",
      "\u001b[1;31mAttributeError\u001b[0m                            Traceback (most recent call last)",
      "Cell \u001b[1;32mIn[6], line 1\u001b[0m\n\u001b[1;32m----> 1\u001b[0m prod \u001b[38;5;241m=\u001b[39m \u001b[43mcch\u001b[49m\u001b[38;5;241;43m.\u001b[39;49m\u001b[43msearch_all\u001b[49m\u001b[43m(\u001b[49m\u001b[38;5;124;43m'\u001b[39;49m\u001b[38;5;124;43mtim tam\u001b[39;49m\u001b[38;5;124;43m'\u001b[39;49m\u001b[43m)\u001b[49m\n",
      "File \u001b[1;32mc:\\Users\\Simone\\Projects\\Grocerify\\grocerify\\coles_helper.py:110\u001b[0m, in \u001b[0;36mColesHelper.search_all\u001b[1;34m(cls, query)\u001b[0m\n\u001b[0;32m    107\u001b[0m         all_results\u001b[38;5;241m.\u001b[39mextend(page_data[\u001b[38;5;124m\"\u001b[39m\u001b[38;5;124mresults\u001b[39m\u001b[38;5;124m\"\u001b[39m])\n\u001b[0;32m    109\u001b[0m \u001b[38;5;66;03m# Convert the raw product data into Product instances\u001b[39;00m\n\u001b[1;32m--> 110\u001b[0m \u001b[38;5;28;01mreturn\u001b[39;00m \u001b[38;5;28;43mcls\u001b[39;49m\u001b[38;5;241;43m.\u001b[39;49m\u001b[43m_create_products\u001b[49m\u001b[43m(\u001b[49m\u001b[43mall_results\u001b[49m\u001b[43m)\u001b[49m\n",
      "File \u001b[1;32mc:\\Users\\Simone\\Projects\\Grocerify\\grocerify\\coles_helper.py:82\u001b[0m, in \u001b[0;36mColesHelper._create_products\u001b[1;34m(cls, raw_products)\u001b[0m\n\u001b[0;32m     80\u001b[0m     \u001b[38;5;28mprint\u001b[39m(\u001b[38;5;124m'\u001b[39m\u001b[38;5;124m5\u001b[39m\u001b[38;5;124m'\u001b[39m)\n\u001b[0;32m     81\u001b[0m     \u001b[38;5;66;03m# Create Product instances and append to the list\u001b[39;00m\n\u001b[1;32m---> 82\u001b[0m     products\u001b[38;5;241m.\u001b[39mappend(\u001b[43mProduct\u001b[49m\u001b[43m(\u001b[49m\n\u001b[0;32m     83\u001b[0m \u001b[43m        \u001b[49m\u001b[43mname\u001b[49m\u001b[38;5;241;43m=\u001b[39;49m\u001b[43mproduct\u001b[49m\u001b[38;5;241;43m.\u001b[39;49m\u001b[43mget\u001b[49m\u001b[43m(\u001b[49m\u001b[38;5;124;43m\"\u001b[39;49m\u001b[38;5;124;43mproduct_name\u001b[39;49m\u001b[38;5;124;43m\"\u001b[39;49m\u001b[43m,\u001b[49m\u001b[43m \u001b[49m\u001b[38;5;124;43m\"\u001b[39;49m\u001b[38;5;124;43mUnknown Product\u001b[39;49m\u001b[38;5;124;43m\"\u001b[39;49m\u001b[43m)\u001b[49m\u001b[43m,\u001b[49m\n\u001b[0;32m     84\u001b[0m \u001b[43m        \u001b[49m\u001b[43mprice\u001b[49m\u001b[38;5;241;43m=\u001b[39;49m\u001b[43mprice\u001b[49m\u001b[43m,\u001b[49m\u001b[43m  \u001b[49m\u001b[38;5;66;43;03m# Ensure price is float\u001b[39;49;00m\n\u001b[0;32m     85\u001b[0m \u001b[43m        \u001b[49m\u001b[43mprice_per_unit\u001b[49m\u001b[38;5;241;43m=\u001b[39;49m\u001b[43mprice_per_unit\u001b[49m\u001b[43m,\u001b[49m\n\u001b[0;32m     86\u001b[0m \u001b[43m        \u001b[49m\u001b[43mstore\u001b[49m\u001b[38;5;241;43m=\u001b[39;49m\u001b[38;5;124;43m\"\u001b[39;49m\u001b[38;5;124;43mcoles\u001b[39;49m\u001b[38;5;124;43m\"\u001b[39;49m\u001b[43m,\u001b[49m\n\u001b[0;32m     87\u001b[0m \u001b[43m        \u001b[49m\u001b[43msize\u001b[49m\u001b[38;5;241;43m=\u001b[39;49m\u001b[43mproduct\u001b[49m\u001b[38;5;241;43m.\u001b[39;49m\u001b[43mget\u001b[49m\u001b[43m(\u001b[49m\u001b[38;5;124;43m\"\u001b[39;49m\u001b[38;5;124;43mproduct_size\u001b[39;49m\u001b[38;5;124;43m\"\u001b[39;49m\u001b[43m,\u001b[49m\u001b[43m \u001b[49m\u001b[38;5;124;43m\"\u001b[39;49m\u001b[38;5;124;43mN/A\u001b[39;49m\u001b[38;5;124;43m\"\u001b[39;49m\u001b[43m)\u001b[49m\u001b[43m,\u001b[49m\n\u001b[0;32m     88\u001b[0m \u001b[43m        \u001b[49m\u001b[43mimage_url\u001b[49m\u001b[38;5;241;43m=\u001b[39;49m\u001b[43mimage_url\u001b[49m\n\u001b[0;32m     89\u001b[0m \u001b[43m    \u001b[49m\u001b[43m)\u001b[49m)\n\u001b[0;32m     91\u001b[0m \u001b[38;5;28;01mreturn\u001b[39;00m products\n",
      "File \u001b[1;32mc:\\Users\\Simone\\Projects\\Grocerify\\grocerify\\product.py:6\u001b[0m, in \u001b[0;36mProduct.__init__\u001b[1;34m(self, name, price, price_per_unit, store, size, image_url)\u001b[0m\n\u001b[0;32m      4\u001b[0m \u001b[38;5;28mself\u001b[39m\u001b[38;5;241m.\u001b[39mname \u001b[38;5;241m=\u001b[39m name\n\u001b[0;32m      5\u001b[0m \u001b[38;5;28mself\u001b[39m\u001b[38;5;241m.\u001b[39mprice \u001b[38;5;241m=\u001b[39m price\n\u001b[1;32m----> 6\u001b[0m \u001b[38;5;28mself\u001b[39m\u001b[38;5;241m.\u001b[39mprice_per_unit \u001b[38;5;241m=\u001b[39m \u001b[38;5;28mself\u001b[39m\u001b[38;5;241m.\u001b[39mprice \u001b[38;5;241m/\u001b[39m \u001b[38;5;28mself\u001b[39m\u001b[38;5;241m.\u001b[39msize \u001b[38;5;28;01mif\u001b[39;00m \u001b[38;5;28;43mself\u001b[39;49m\u001b[38;5;241;43m.\u001b[39;49m\u001b[43msize\u001b[49m \u001b[38;5;241m>\u001b[39m \u001b[38;5;241m0\u001b[39m \u001b[38;5;28;01melse\u001b[39;00m \u001b[38;5;241m0\u001b[39m  \u001b[38;5;66;03m# Avoid division by zero\u001b[39;00m\n\u001b[0;32m      7\u001b[0m \u001b[38;5;28mself\u001b[39m\u001b[38;5;241m.\u001b[39mstore \u001b[38;5;241m=\u001b[39m store\n\u001b[0;32m      8\u001b[0m \u001b[38;5;28mself\u001b[39m\u001b[38;5;241m.\u001b[39msize \u001b[38;5;241m=\u001b[39m size\n",
      "\u001b[1;31mAttributeError\u001b[0m: 'Product' object has no attribute 'size'"
     ]
    }
   ],
   "source": [
    "prod = cch.search_all('tim tam')\n"
   ]
  },
  {
   "cell_type": "code",
   "execution_count": 5,
   "metadata": {},
   "outputs": [
    {
     "name": "stdout",
     "output_type": "stream",
     "text": [
      "{'query': 'tim tam', 'results': [{'barcode': None, 'product_name': 'Tim Tam Chocolate Biscuits Original', 'product_brand': 'Arnotts', 'current_price': 4.5, 'product_size': '200g', 'url': 'https://www.coles.com.au/product/329607'}, {'barcode': None, 'product_name': 'Tim Tam Chocolate Biscuits Inspired by Jatz', 'product_brand': 'Arnotts', 'current_price': 4.5, 'product_size': '165g', 'url': 'https://www.coles.com.au/product/7862884'}, {'barcode': None, 'product_name': 'Tim Tam Chocolate Biscuits Double Coat', 'product_brand': \"Arnott's\", 'current_price': 4.5, 'product_size': '200g', 'url': 'https://www.coles.com.au/product/7029292'}, {'barcode': None, 'product_name': 'Tim Tam Chocolate Biscuits Dark Chocolate', 'product_brand': \"Arnott's\", 'current_price': 4.5, 'product_size': '200g', 'url': 'https://www.coles.com.au/product/6025536'}, {'barcode': None, 'product_name': 'Gluten Free Tim Tam Original Biscuits', 'product_brand': \"Arnott's\", 'current_price': 3.7, 'product_size': '150g', 'url': 'https://www.coles.com.au/product/6845799'}, {'barcode': None, 'product_name': 'Tim Tam Chocolate Biscuits Coconut Cream', 'product_brand': \"Arnott's\", 'current_price': 2.5, 'product_size': '165g', 'url': 'https://www.coles.com.au/product/6519365'}, {'barcode': None, 'product_name': 'Tim Tam Chocolate Biscuits Chewy Caramel', 'product_brand': \"Arnott's\", 'current_price': 4.5, 'product_size': '175g', 'url': 'https://www.coles.com.au/product/8655375'}, {'barcode': None, 'product_name': 'Tim Tam Choc Biscuits White Chocolate', 'product_brand': 'Arnotts', 'current_price': 4.5, 'product_size': '165g', 'url': 'https://www.coles.com.au/product/7243805'}, {'barcode': None, 'product_name': 'Tim Tam Family Pack Original Chocolate Biscuits', 'product_brand': \"Arnott's\", 'current_price': 7.5, 'product_size': '365g', 'url': 'https://www.coles.com.au/product/6634760'}, {'barcode': None, 'product_name': 'Tim Tam Deluxe Chocolate Biscuits Triple Choc', 'product_brand': 'Arnotts', 'current_price': 6.5, 'product_size': '175g', 'url': 'https://www.coles.com.au/product/4964378'}, {'barcode': None, 'product_name': 'Tim Tam Deluxe Chocolate Biscuits Cafe Latte', 'product_brand': 'Arnotts', 'current_price': 6.5, 'product_size': '175g', 'url': 'https://www.coles.com.au/product/7844441'}, {'barcode': None, 'product_name': 'Tim Tam Deluxe Chocolate Biscuits Dark Choc Mint', 'product_brand': 'Arnotts', 'current_price': 6.5, 'product_size': '175g', 'url': 'https://www.coles.com.au/product/4964389'}, {'barcode': None, 'product_name': 'Tim Tam Deluxe Chocolate Biscuits Salted Caramel Brownie', 'product_brand': 'Arnotts', 'current_price': 6.5, 'product_size': '175g', 'url': 'https://www.coles.com.au/product/4964414'}, {'barcode': None, 'product_name': 'Tim Tam Chocolate Biscuits Murray River Salted Caramel', 'product_brand': \"Arnott's\", 'current_price': 4.5, 'product_size': '175g', 'url': 'https://www.coles.com.au/product/3720152'}], 'total_results': 14, 'total_pages': 1, 'current_page': 1}\n"
     ]
    }
   ],
   "source": [
    "print(prod)"
   ]
  }
 ],
 "metadata": {
  "kernelspec": {
   "display_name": "Python 3",
   "language": "python",
   "name": "python3"
  },
  "language_info": {
   "codemirror_mode": {
    "name": "ipython",
    "version": 3
   },
   "file_extension": ".py",
   "mimetype": "text/x-python",
   "name": "python",
   "nbconvert_exporter": "python",
   "pygments_lexer": "ipython3",
   "version": "3.13.2"
  }
 },
 "nbformat": 4,
 "nbformat_minor": 2
}
