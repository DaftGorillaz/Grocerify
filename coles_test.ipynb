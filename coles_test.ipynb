{
 "cells": [
  {
   "cell_type": "code",
   "execution_count": 1,
   "metadata": {},
   "outputs": [],
   "source": [
    "from grocerify.coles_helper import ColesHelper"
   ]
  },
  {
   "cell_type": "code",
   "execution_count": 2,
   "metadata": {},
   "outputs": [],
   "source": [
    "cch = ColesHelper()"
   ]
  },
  {
   "cell_type": "code",
   "execution_count": 3,
   "metadata": {},
   "outputs": [
    {
     "name": "stdout",
     "output_type": "stream",
     "text": [
      "Product Information:\n",
      "Name: Tim Tam Chocolate Biscuits Original\n",
      "Price: $4.50\n",
      "Store: coles\n",
      "Price per unit: $0.0225\n",
      "Size: 200 g\n",
      "Image URL: https://cdn.productimages.coles.com.au/productimages/3/329607.jpg\n",
      "Product Information:\n",
      "Name: Tim Tam Chocolate Biscuits Inspired by Jatz\n",
      "Price: $4.50\n",
      "Store: coles\n",
      "Price per unit: $0.02727\n",
      "Size: 165 g\n",
      "Image URL: https://cdn.productimages.coles.com.au/productimages/7/7862884.jpg\n",
      "Product Information:\n",
      "Name: Tim Tam Chocolate Biscuits Double Coat\n",
      "Price: $4.50\n",
      "Store: coles\n",
      "Price per unit: $0.0225\n",
      "Size: 200 g\n",
      "Image URL: https://cdn.productimages.coles.com.au/productimages/7/7029292.jpg\n",
      "Product Information:\n",
      "Name: Tim Tam Chocolate Biscuits Dark Chocolate\n",
      "Price: $4.50\n",
      "Store: coles\n",
      "Price per unit: $0.0225\n",
      "Size: 200 g\n",
      "Image URL: https://cdn.productimages.coles.com.au/productimages/6/6025536.jpg\n",
      "Product Information:\n",
      "Name: Gluten Free Tim Tam Original Biscuits\n",
      "Price: $3.70\n",
      "Store: coles\n",
      "Price per unit: $0.02467\n",
      "Size: 150 g\n",
      "Image URL: https://cdn.productimages.coles.com.au/productimages/6/6845799.jpg\n",
      "Product Information:\n",
      "Name: Tim Tam Chocolate Biscuits Coconut Cream\n",
      "Price: $2.50\n",
      "Store: coles\n",
      "Price per unit: $0.01515\n",
      "Size: 165 g\n",
      "Image URL: https://cdn.productimages.coles.com.au/productimages/6/6519365.jpg\n",
      "Product Information:\n",
      "Name: Tim Tam Chocolate Biscuits Chewy Caramel\n",
      "Price: $4.50\n",
      "Store: coles\n",
      "Price per unit: $0.02571\n",
      "Size: 175 g\n",
      "Image URL: https://cdn.productimages.coles.com.au/productimages/8/8655375.jpg\n",
      "Product Information:\n",
      "Name: Tim Tam Choc Biscuits White Chocolate\n",
      "Price: $4.50\n",
      "Store: coles\n",
      "Price per unit: $0.02727\n",
      "Size: 165 g\n",
      "Image URL: https://cdn.productimages.coles.com.au/productimages/7/7243805.jpg\n",
      "Product Information:\n",
      "Name: Tim Tam Family Pack Original Chocolate Biscuits\n",
      "Price: $7.50\n",
      "Store: coles\n",
      "Price per unit: $0.02055\n",
      "Size: 365 g\n",
      "Image URL: https://cdn.productimages.coles.com.au/productimages/6/6634760.jpg\n",
      "Product Information:\n",
      "Name: Tim Tam Deluxe Chocolate Biscuits Triple Choc\n",
      "Price: $6.50\n",
      "Store: coles\n",
      "Price per unit: $0.03714\n",
      "Size: 175 g\n",
      "Image URL: https://cdn.productimages.coles.com.au/productimages/4/4964378.jpg\n",
      "Product Information:\n",
      "Name: Tim Tam Deluxe Chocolate Biscuits Cafe Latte\n",
      "Price: $6.50\n",
      "Store: coles\n",
      "Price per unit: $0.03714\n",
      "Size: 175 g\n",
      "Image URL: https://cdn.productimages.coles.com.au/productimages/7/7844441.jpg\n",
      "Product Information:\n",
      "Name: Tim Tam Deluxe Chocolate Biscuits Dark Choc Mint\n",
      "Price: $6.50\n",
      "Store: coles\n",
      "Price per unit: $0.03714\n",
      "Size: 175 g\n",
      "Image URL: https://cdn.productimages.coles.com.au/productimages/4/4964389.jpg\n",
      "Product Information:\n",
      "Name: Tim Tam Deluxe Chocolate Biscuits Salted Caramel Brownie\n",
      "Price: $6.50\n",
      "Store: coles\n",
      "Price per unit: $0.03714\n",
      "Size: 175 g\n",
      "Image URL: https://cdn.productimages.coles.com.au/productimages/4/4964414.jpg\n",
      "Product Information:\n",
      "Name: Tim Tam Chocolate Biscuits Murray River Salted Caramel\n",
      "Price: $4.50\n",
      "Store: coles\n",
      "Price per unit: $0.02571\n",
      "Size: 175 g\n",
      "Image URL: https://cdn.productimages.coles.com.au/productimages/3/3720152.jpg\n"
     ]
    }
   ],
   "source": [
    "prod = cch.search_all('tim tam')\n",
    "for item in prod:\n",
    "    print(item)"
   ]
  },
  {
   "cell_type": "code",
   "execution_count": 4,
   "metadata": {},
   "outputs": [],
   "source": [
    "prod = cch.search_all('tim tam')\n"
   ]
  },
  {
   "cell_type": "code",
   "execution_count": 5,
   "metadata": {},
   "outputs": [
    {
     "name": "stdout",
     "output_type": "stream",
     "text": [
      "{'query': 'tim tam', 'results': [{'barcode': None, 'product_name': 'Tim Tam Chocolate Biscuits Original', 'product_brand': 'Arnotts', 'current_price': 4.5, 'product_size': '200g', 'url': 'https://www.coles.com.au/product/329607'}, {'barcode': None, 'product_name': 'Tim Tam Chocolate Biscuits Inspired by Jatz', 'product_brand': 'Arnotts', 'current_price': 4.5, 'product_size': '165g', 'url': 'https://www.coles.com.au/product/7862884'}, {'barcode': None, 'product_name': 'Tim Tam Chocolate Biscuits Double Coat', 'product_brand': \"Arnott's\", 'current_price': 4.5, 'product_size': '200g', 'url': 'https://www.coles.com.au/product/7029292'}, {'barcode': None, 'product_name': 'Tim Tam Chocolate Biscuits Dark Chocolate', 'product_brand': \"Arnott's\", 'current_price': 4.5, 'product_size': '200g', 'url': 'https://www.coles.com.au/product/6025536'}, {'barcode': None, 'product_name': 'Gluten Free Tim Tam Original Biscuits', 'product_brand': \"Arnott's\", 'current_price': 3.7, 'product_size': '150g', 'url': 'https://www.coles.com.au/product/6845799'}, {'barcode': None, 'product_name': 'Tim Tam Chocolate Biscuits Coconut Cream', 'product_brand': \"Arnott's\", 'current_price': 2.5, 'product_size': '165g', 'url': 'https://www.coles.com.au/product/6519365'}, {'barcode': None, 'product_name': 'Tim Tam Chocolate Biscuits Chewy Caramel', 'product_brand': \"Arnott's\", 'current_price': 4.5, 'product_size': '175g', 'url': 'https://www.coles.com.au/product/8655375'}, {'barcode': None, 'product_name': 'Tim Tam Choc Biscuits White Chocolate', 'product_brand': 'Arnotts', 'current_price': 4.5, 'product_size': '165g', 'url': 'https://www.coles.com.au/product/7243805'}, {'barcode': None, 'product_name': 'Tim Tam Family Pack Original Chocolate Biscuits', 'product_brand': \"Arnott's\", 'current_price': 7.5, 'product_size': '365g', 'url': 'https://www.coles.com.au/product/6634760'}, {'barcode': None, 'product_name': 'Tim Tam Deluxe Chocolate Biscuits Triple Choc', 'product_brand': 'Arnotts', 'current_price': 6.5, 'product_size': '175g', 'url': 'https://www.coles.com.au/product/4964378'}, {'barcode': None, 'product_name': 'Tim Tam Deluxe Chocolate Biscuits Cafe Latte', 'product_brand': 'Arnotts', 'current_price': 6.5, 'product_size': '175g', 'url': 'https://www.coles.com.au/product/7844441'}, {'barcode': None, 'product_name': 'Tim Tam Deluxe Chocolate Biscuits Dark Choc Mint', 'product_brand': 'Arnotts', 'current_price': 6.5, 'product_size': '175g', 'url': 'https://www.coles.com.au/product/4964389'}, {'barcode': None, 'product_name': 'Tim Tam Deluxe Chocolate Biscuits Salted Caramel Brownie', 'product_brand': 'Arnotts', 'current_price': 6.5, 'product_size': '175g', 'url': 'https://www.coles.com.au/product/4964414'}, {'barcode': None, 'product_name': 'Tim Tam Chocolate Biscuits Murray River Salted Caramel', 'product_brand': \"Arnott's\", 'current_price': 4.5, 'product_size': '175g', 'url': 'https://www.coles.com.au/product/3720152'}], 'total_results': 14, 'total_pages': 1, 'current_page': 1}\n"
     ]
    }
   ],
   "source": [
    "print(prod)"
   ]
  }
 ],
 "metadata": {
  "kernelspec": {
   "display_name": "Python 3",
   "language": "python",
   "name": "python3"
  },
  "language_info": {
   "codemirror_mode": {
    "name": "ipython",
    "version": 3
   },
   "file_extension": ".py",
   "mimetype": "text/x-python",
   "name": "python",
   "nbconvert_exporter": "python",
   "pygments_lexer": "ipython3",
   "version": "3.13.2"
  }
 },
 "nbformat": 4,
 "nbformat_minor": 2
}
